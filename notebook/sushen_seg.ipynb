{
 "cells": [
  {
   "cell_type": "code",
   "execution_count": 43,
   "metadata": {
    "ExecuteTime": {
     "end_time": "2019-01-30T15:38:18.185536Z",
     "start_time": "2019-01-30T15:38:18.169915Z"
    },
    "collapsed": true
   },
   "outputs": [],
   "source": [
    "import re\n",
    "import numpy as np\n",
    "import pandas as pd\n",
    "from collections import Counter\n",
    "from tqdm import tqdm_notebook"
   ]
  },
  {
   "cell_type": "code",
   "execution_count": 2,
   "metadata": {
    "ExecuteTime": {
     "end_time": "2019-01-30T14:17:05.891918Z",
     "start_time": "2019-01-30T14:17:05.688840Z"
    }
   },
   "outputs": [],
   "source": [
    "s = []\n",
    "with open('./msr_training.txt','r') as f:\n",
    "    for line in f.readlines():\n",
    "        s.append(line)"
   ]
  },
  {
   "cell_type": "code",
   "execution_count": 3,
   "metadata": {
    "ExecuteTime": {
     "end_time": "2019-01-30T14:17:08.995157Z",
     "start_time": "2019-01-30T14:17:08.277141Z"
    }
   },
   "outputs": [],
   "source": [
    "pattern = re.compile('[“|”|‘|’|\\n|。|，|？|！|、]')\n",
    "def clean(s): #整理一下数据，有些不规范的地方\n",
    "    s = re.sub(pattern,'',s)\n",
    "    s = ' '.join(s.split())\n",
    "    return s\n",
    "#清洗语料\n",
    "s = list(map(clean, s))"
   ]
  },
  {
   "cell_type": "code",
   "execution_count": 64,
   "metadata": {
    "ExecuteTime": {
     "end_time": "2019-01-30T15:54:41.805273Z",
     "start_time": "2019-01-30T15:54:40.768135Z"
    }
   },
   "outputs": [],
   "source": [
    "def generate_label(s):\n",
    "    tmp = s.split()\n",
    "    tmp_label = []\n",
    "    for w in tmp:\n",
    "        if len(w)==1:\n",
    "            tmp_label.append('s')\n",
    "        elif len(w)==2:\n",
    "            tmp_label.append('b')\n",
    "            tmp_label.append('e')\n",
    "        elif len(w)>2:\n",
    "            tmp_label.append('b')\n",
    "            for i in range(len(w)-2):\n",
    "                tmp_label.append('m')\n",
    "            tmp_label.append('e')\n",
    "    return ''.join(tmp_label)\n",
    "#生成标签\n",
    "label = list(map(generate_label,s))"
   ]
  },
  {
   "cell_type": "code",
   "execution_count": 12,
   "metadata": {
    "ExecuteTime": {
     "end_time": "2019-01-30T14:40:25.127336Z",
     "start_time": "2019-01-30T14:40:24.783665Z"
    },
    "collapsed": true
   },
   "outputs": [],
   "source": [
    "text = [''.join(v.split()) for v in s]"
   ]
  },
  {
   "cell_type": "code",
   "execution_count": 15,
   "metadata": {
    "ExecuteTime": {
     "end_time": "2019-01-30T14:45:28.572554Z",
     "start_time": "2019-01-30T14:45:27.330098Z"
    },
    "collapsed": true
   },
   "outputs": [],
   "source": [
    "char_dict = Counter(''.join(text))"
   ]
  },
  {
   "cell_type": "code",
   "execution_count": 22,
   "metadata": {
    "ExecuteTime": {
     "end_time": "2019-01-30T14:47:50.336924Z",
     "start_time": "2019-01-30T14:47:50.290060Z"
    }
   },
   "outputs": [
    {
     "data": {
      "text/plain": [
       "42.76845290138512"
      ]
     },
     "execution_count": 22,
     "metadata": {},
     "output_type": "execute_result"
    }
   ],
   "source": [
    "text_len = np.array([len(v) for v in text])\n",
    "text_len.mean()"
   ]
  },
  {
   "cell_type": "code",
   "execution_count": 23,
   "metadata": {
    "ExecuteTime": {
     "end_time": "2019-01-30T14:47:57.038814Z",
     "start_time": "2019-01-30T14:47:57.023195Z"
    }
   },
   "outputs": [],
   "source": [
    "max_len = 50"
   ]
  },
  {
   "cell_type": "code",
   "execution_count": 24,
   "metadata": {
    "ExecuteTime": {
     "end_time": "2019-01-30T14:51:28.772590Z",
     "start_time": "2019-01-30T14:51:28.741354Z"
    },
    "collapsed": true
   },
   "outputs": [],
   "source": [
    "w2idx = {v:i+1 for i,v in enumerate(char_dict.keys())}\n",
    "idx2word = {w2idx[v]:v for }"
   ]
  },
  {
   "cell_type": "code",
   "execution_count": 53,
   "metadata": {
    "ExecuteTime": {
     "end_time": "2019-01-30T15:41:11.837677Z",
     "start_time": "2019-01-30T15:41:10.489917Z"
    }
   },
   "outputs": [],
   "source": [
    "train_text = []\n",
    "for v in text:\n",
    "    tmp = []\n",
    "    for c in v:\n",
    "        tmp.append(w2idx[c])\n",
    "    train_text.append(tmp)"
   ]
  },
  {
   "cell_type": "code",
   "execution_count": 55,
   "metadata": {
    "ExecuteTime": {
     "end_time": "2019-01-30T15:41:25.266500Z",
     "start_time": "2019-01-30T15:41:25.235248Z"
    }
   },
   "outputs": [],
   "source": [
    "for i,t in enumerate(train_text):\n",
    "    if len(v)<50:\n",
    "        buchong = np.zeros(50-len(v),dtype=int).tolist()\n",
    "        train_text[i] = train_text[i] + buchong\n",
    "        if len(train_text[i])==50:\n",
    "            break\n",
    "    elif len(v)>=50:\n",
    "        train_text[i] = train_text[i][:50]"
   ]
  },
  {
   "cell_type": "code",
   "execution_count": 65,
   "metadata": {
    "ExecuteTime": {
     "end_time": "2019-01-30T15:54:46.161754Z",
     "start_time": "2019-01-30T15:54:46.130682Z"
    }
   },
   "outputs": [],
   "source": [
    "for i,t in enumerate(label):\n",
    "    if len(v)<50:\n",
    "        buchong = 'x'*(50 - len(v))\n",
    "        label[i] = list(label[i]) + list(buchong)\n",
    "        if len(label[i])==50:\n",
    "            break\n",
    "    elif len(v)>=50:\n",
    "        label[i] = label[i][:50]"
   ]
  },
  {
   "cell_type": "code",
   "execution_count": 69,
   "metadata": {
    "ExecuteTime": {
     "end_time": "2019-01-30T15:55:11.336787Z",
     "start_time": "2019-01-30T15:55:11.305540Z"
    }
   },
   "outputs": [
    {
     "data": {
      "text/plain": [
       "65"
      ]
     },
     "execution_count": 69,
     "metadata": {},
     "output_type": "execute_result"
    }
   ],
   "source": [
    "len(train_text[0])"
   ]
  },
  {
   "cell_type": "code",
   "execution_count": null,
   "metadata": {
    "collapsed": true
   },
   "outputs": [],
   "source": [
    "label_dict = {'b':0,'m':1,'e':2,'s':3,'x':4}"
   ]
  }
 ],
 "metadata": {
  "kernelspec": {
   "display_name": "Python 3",
   "language": "python",
   "name": "python3"
  },
  "language_info": {
   "codemirror_mode": {
    "name": "ipython",
    "version": 3
   },
   "file_extension": ".py",
   "mimetype": "text/x-python",
   "name": "python",
   "nbconvert_exporter": "python",
   "pygments_lexer": "ipython3",
   "version": "3.6.2"
  },
  "toc": {
   "base_numbering": 1,
   "nav_menu": {},
   "number_sections": true,
   "sideBar": true,
   "skip_h1_title": false,
   "title_cell": "Table of Contents",
   "title_sidebar": "Contents",
   "toc_cell": false,
   "toc_position": {},
   "toc_section_display": true,
   "toc_window_display": false
  }
 },
 "nbformat": 4,
 "nbformat_minor": 2
}
